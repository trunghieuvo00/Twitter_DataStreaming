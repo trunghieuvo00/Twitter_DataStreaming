{
  "nbformat": 4,
  "nbformat_minor": 0,
  "metadata": {
    "colab": {
      "name": "Streaming_Spark.ipynb",
      "provenance": []
    },
    "kernelspec": {
      "name": "python3",
      "display_name": "Python 3"
    },
    "language_info": {
      "name": "python"
    }
  },
  "cells": [
    {
      "cell_type": "code",
      "metadata": {
        "colab": {
          "base_uri": "https://localhost:8080/"
        },
        "id": "j4h6XdMOf1Wx",
        "outputId": "cb7c0bb7-6d75-4a7f-c44f-661fe0429752"
      },
      "source": [
        "!pip install pyspark"
      ],
      "execution_count": 1,
      "outputs": [
        {
          "output_type": "stream",
          "text": [
            "Requirement already satisfied: pyspark in /usr/local/lib/python3.7/dist-packages (3.1.2)\n",
            "Requirement already satisfied: py4j==0.10.9 in /usr/local/lib/python3.7/dist-packages (from pyspark) (0.10.9)\n"
          ],
          "name": "stdout"
        }
      ]
    },
    {
      "cell_type": "code",
      "metadata": {
        "id": "abyKQf0JiRUC"
      },
      "source": [
        "import pyspark\n",
        "from pyspark.sql import SparkSession\n",
        "from pyspark.sql import functions as f\n",
        "from pyspark.sql import streaming\n",
        "\n",
        "import pandas as pd\n",
        "from IPython.display import display, clear_output\n",
        "import seaborn as sns\n",
        "\n",
        "spark = SparkSession.builder.appName(\"Streaming\").getOrCreate()"
      ],
      "execution_count": 10,
      "outputs": []
    },
    {
      "cell_type": "code",
      "metadata": {
        "id": "6Zzv0QnHlQ17"
      },
      "source": [
        "lines = spark.readStream.format('socket').option('host', 'localhost').option('port', 9999).load()\n",
        "\n",
        "words = lines.select(f.explode(f.split(lines.value, \" \")).alias(\"word\"))\n",
        "\n",
        "wordCounts = words.groupBy(\"word\").count()"
      ],
      "execution_count": 11,
      "outputs": []
    },
    {
      "cell_type": "code",
      "metadata": {
        "id": "9kw49MSGnv53"
      },
      "source": [
        "query = wordCounts.writeStream.outputMode(\"complete\").format(\"console\").start()\n",
        "\n",
        "# query.awaitTermination()"
      ],
      "execution_count": 15,
      "outputs": []
    },
    {
      "cell_type": "code",
      "metadata": {
        "id": "pnKA_mQRoJdu"
      },
      "source": [
        "from TwitterSecrets import twitter_secrets as ts\n",
        "\n",
        "OUT_PATH = \"/content/twitterdata\"\n",
        "\n",
        "QUERY = \"euro 2021\"\n",
        "\n",
        "STOP_AFTER = 500"
      ],
      "execution_count": 15,
      "outputs": []
    },
    {
      "cell_type": "code",
      "metadata": {
        "id": "AU4b19Q3iQ8l"
      },
      "source": [
        "import json\n",
        "import tempfile\n",
        "import requests\n",
        "import pathlib\n",
        "from datetime import datetime as dt\n",
        "from uuid import uuid4\n",
        "from requests_oauthlib import OAuth1Session"
      ],
      "execution_count": 16,
      "outputs": []
    },
    {
      "cell_type": "code",
      "metadata": {
        "colab": {
          "base_uri": "https://localhost:8080/"
        },
        "id": "LpfFVlz9icLd",
        "outputId": "f819a55c-48c5-4ff9-ad75-a39c33d3dbc1"
      },
      "source": [
        "pathlib.Path(OUT_PATH).mkdir(parents = True, exist_ok = True)\n",
        "\n",
        "query_data = {\n",
        "    \"track\": f\"#{QUERY}\".replace(\"#\", \"\").lower(), \"language\": \"en\"\n",
        "}\n",
        "\n",
        "twitter = OAuth1Session(\n",
        "    client_key = ts.CONSUMER_KEY,\n",
        "    client_secret = ts.CONSUMER_SECRET,\n",
        "    resource_owner_key = ts.ACCESS_TOKEN,\n",
        "    resource_owner_secret = ts.ACCESS_SECRET,\n",
        ")\n",
        "\n",
        "url = \"https://stream.twitter.com/1/1/statuses/filter.json\"\n",
        "query_url = f\"{url}?{'&'.join([f'{k}={v}' for k, v in query_data.items()])}\"\n",
        "\n",
        "print(f'STREAMING {STOP_AFTER} TWEETS')\n",
        "\n",
        "with twitter.get(query_url, stream = True) as response:\n",
        "  for i, raw_tweet in enumerate(response.iter_lines()):\n",
        "    if i == STOP_AFTER:\n",
        "      break\n",
        "    try:\n",
        "      tweet = json.loads(raw_tweet)\n",
        "      print(f\"{i+1}/{STOP_AFTER}: {tweet['user']['screen_name']} @ {tweet['created_at']}: {tweet['text']}\\n\")\n",
        "    except (json.JSONDecodeError, KeyError) as err:\n",
        "      print(\"ERROR\")\n",
        "      continue\n",
        "    with pathlib.Path(OUT_PATH) / f\"{dt.now().timestamp()}_{uuid4()}.json\" as F:\n",
        "      F.write_bytes(raw_tweet)"
      ],
      "execution_count": 14,
      "outputs": [
        {
          "output_type": "stream",
          "text": [
            "STREAMING 500 TWEETS\n"
          ],
          "name": "stdout"
        }
      ]
    },
    {
      "cell_type": "markdown",
      "metadata": {
        "id": "ZrDlckq39Tt1"
      },
      "source": [
        "# **Test**"
      ]
    },
    {
      "cell_type": "code",
      "metadata": {
        "id": "uM9kk-NJlQmz"
      },
      "source": [
        "import socket\n",
        "import sys\n",
        "import requests\n",
        "import requests_oauthlib\n",
        "import json\n",
        "# from vaderSentiment.vaderSentiment import SentimentIntensityAnalyzer"
      ],
      "execution_count": 4,
      "outputs": []
    },
    {
      "cell_type": "code",
      "metadata": {
        "id": "qdpDbJWZ9Vhl"
      },
      "source": [
        "from TwitterSecrets import twitter_secrets as ts\n",
        "\n",
        "OUT_PATH = \"/content/twitterdata\"\n",
        "\n",
        "QUERY = \"euro 2021\"\n",
        "\n",
        "STOP_AFTER = 500\n",
        "\n",
        "ACCESS_TOKEN = ts.ACCESS_TOKEN\n",
        "ACCESS_SECRET = ts.ACCESS_SECRET\n",
        "CONSUMER_KEY = ts.CONSUMER_KEY\n",
        "CONSUMER_SECRET = ts.CONSUMER_SECRET\n",
        "my_auth = requests_oauthlib.OAuth1(CONSUMER_KEY, CONSUMER_SECRET,ACCESS_TOKEN, ACCESS_SECRET)"
      ],
      "execution_count": 5,
      "outputs": []
    },
    {
      "cell_type": "code",
      "metadata": {
        "id": "FwvAFDS99hB2"
      },
      "source": [
        "def get_tweets():\n",
        "    url = 'https://stream.twitter.com/1.1/statuses/filter.json'\n",
        "    query_data = [('language', 'en'), ('follow', '25073877')]\n",
        "    query_url = url + '?' + '&'.join([str(t[0]) + '=' + str(t[1]) for t in query_data])\n",
        "    response = requests.get(query_url, auth=my_auth, stream=True)\n",
        "    print(query_url, response)\n",
        "    \n",
        "    return response"
      ],
      "execution_count": 6,
      "outputs": []
    },
    {
      "cell_type": "code",
      "metadata": {
        "id": "BBO6q_r69icM"
      },
      "source": [
        "def process_send_tweets_to_spark(http_resp, tcp_connection):\n",
        "    for line in http_resp.iter_lines():\n",
        "        try:\n",
        "            full_tweet = json.loads(line)\n",
        "            tweet_text = str(full_tweet['text'].encode(\"utf-8\"))\n",
        "\n",
        "            # analysis sentiment score\n",
        "            sentiment_score = analyzer.polarity_scores(tweet_text)[\"compound\"]\n",
        "            if sentiment_score >= 0.05:\n",
        "                sentiment = \"POSITIVE\"\n",
        "            elif sentiment_score <= -0.05:\n",
        "                sentiment = \"NEGATIVE\"\n",
        "            else:\n",
        "                sentiment = \"NEUTRAL\"\n",
        "\n",
        "            # separate sentiment label with tweet content\n",
        "            mess =  sentiment + '||||' + tweet_text + '\\n' \n",
        "\n",
        "            tcp_connection.send(bytes(mess, 'utf-8'))\n",
        "        except:\n",
        "            e = sys.exc_info()[0]\n",
        "            print(\"Error: %s\" % e)"
      ],
      "execution_count": 7,
      "outputs": []
    },
    {
      "cell_type": "code",
      "metadata": {
        "colab": {
          "base_uri": "https://localhost:8080/",
          "height": 363
        },
        "id": "5QZydmK89kAi",
        "outputId": "3a1b3aea-16c7-4f48-c916-c71afd230903"
      },
      "source": [
        "TCP_IP = \"localhost\"\n",
        "TCP_PORT = 9009\n",
        "conn = None\n",
        "s = socket.socket(socket.AF_INET, socket.SOCK_STREAM)\n",
        "s.bind((TCP_IP, TCP_PORT))\n",
        "s.listen(1)\n",
        "print(\"Waiting for TCP connection...\")\n",
        "conn, addr = s.accept()\n",
        "print(\"Connected... Starting getting tweets.\")\n",
        "resp = get_tweets()\n",
        "send_tweets_to_spark(resp, conn)"
      ],
      "execution_count": 8,
      "outputs": [
        {
          "output_type": "stream",
          "text": [
            "Waiting for TCP connection...\n"
          ],
          "name": "stdout"
        },
        {
          "output_type": "error",
          "ename": "KeyboardInterrupt",
          "evalue": "ignored",
          "traceback": [
            "\u001b[0;31m---------------------------------------------------------------------------\u001b[0m",
            "\u001b[0;31mKeyboardInterrupt\u001b[0m                         Traceback (most recent call last)",
            "\u001b[0;32m<ipython-input-8-926a3b3aa4bd>\u001b[0m in \u001b[0;36m<module>\u001b[0;34m()\u001b[0m\n\u001b[1;32m      6\u001b[0m \u001b[0ms\u001b[0m\u001b[0;34m.\u001b[0m\u001b[0mlisten\u001b[0m\u001b[0;34m(\u001b[0m\u001b[0;36m1\u001b[0m\u001b[0;34m)\u001b[0m\u001b[0;34m\u001b[0m\u001b[0;34m\u001b[0m\u001b[0m\n\u001b[1;32m      7\u001b[0m \u001b[0mprint\u001b[0m\u001b[0;34m(\u001b[0m\u001b[0;34m\"Waiting for TCP connection...\"\u001b[0m\u001b[0;34m)\u001b[0m\u001b[0;34m\u001b[0m\u001b[0;34m\u001b[0m\u001b[0m\n\u001b[0;32m----> 8\u001b[0;31m \u001b[0mconn\u001b[0m\u001b[0;34m,\u001b[0m \u001b[0maddr\u001b[0m \u001b[0;34m=\u001b[0m \u001b[0ms\u001b[0m\u001b[0;34m.\u001b[0m\u001b[0maccept\u001b[0m\u001b[0;34m(\u001b[0m\u001b[0;34m)\u001b[0m\u001b[0;34m\u001b[0m\u001b[0;34m\u001b[0m\u001b[0m\n\u001b[0m\u001b[1;32m      9\u001b[0m \u001b[0mprint\u001b[0m\u001b[0;34m(\u001b[0m\u001b[0;34m\"Connected... Starting getting tweets.\"\u001b[0m\u001b[0;34m)\u001b[0m\u001b[0;34m\u001b[0m\u001b[0;34m\u001b[0m\u001b[0m\n\u001b[1;32m     10\u001b[0m \u001b[0mresp\u001b[0m \u001b[0;34m=\u001b[0m \u001b[0mget_tweets\u001b[0m\u001b[0;34m(\u001b[0m\u001b[0;34m)\u001b[0m\u001b[0;34m\u001b[0m\u001b[0;34m\u001b[0m\u001b[0m\n",
            "\u001b[0;32m/usr/lib/python3.7/socket.py\u001b[0m in \u001b[0;36maccept\u001b[0;34m(self)\u001b[0m\n\u001b[1;32m    210\u001b[0m         \u001b[0mFor\u001b[0m \u001b[0mIP\u001b[0m \u001b[0msockets\u001b[0m\u001b[0;34m,\u001b[0m \u001b[0mthe\u001b[0m \u001b[0maddress\u001b[0m \u001b[0minfo\u001b[0m \u001b[0;32mis\u001b[0m \u001b[0ma\u001b[0m \u001b[0mpair\u001b[0m \u001b[0;34m(\u001b[0m\u001b[0mhostaddr\u001b[0m\u001b[0;34m,\u001b[0m \u001b[0mport\u001b[0m\u001b[0;34m)\u001b[0m\u001b[0;34m.\u001b[0m\u001b[0;34m\u001b[0m\u001b[0;34m\u001b[0m\u001b[0m\n\u001b[1;32m    211\u001b[0m         \"\"\"\n\u001b[0;32m--> 212\u001b[0;31m         \u001b[0mfd\u001b[0m\u001b[0;34m,\u001b[0m \u001b[0maddr\u001b[0m \u001b[0;34m=\u001b[0m \u001b[0mself\u001b[0m\u001b[0;34m.\u001b[0m\u001b[0m_accept\u001b[0m\u001b[0;34m(\u001b[0m\u001b[0;34m)\u001b[0m\u001b[0;34m\u001b[0m\u001b[0;34m\u001b[0m\u001b[0m\n\u001b[0m\u001b[1;32m    213\u001b[0m         \u001b[0msock\u001b[0m \u001b[0;34m=\u001b[0m \u001b[0msocket\u001b[0m\u001b[0;34m(\u001b[0m\u001b[0mself\u001b[0m\u001b[0;34m.\u001b[0m\u001b[0mfamily\u001b[0m\u001b[0;34m,\u001b[0m \u001b[0mself\u001b[0m\u001b[0;34m.\u001b[0m\u001b[0mtype\u001b[0m\u001b[0;34m,\u001b[0m \u001b[0mself\u001b[0m\u001b[0;34m.\u001b[0m\u001b[0mproto\u001b[0m\u001b[0;34m,\u001b[0m \u001b[0mfileno\u001b[0m\u001b[0;34m=\u001b[0m\u001b[0mfd\u001b[0m\u001b[0;34m)\u001b[0m\u001b[0;34m\u001b[0m\u001b[0;34m\u001b[0m\u001b[0m\n\u001b[1;32m    214\u001b[0m         \u001b[0;31m# Issue #7995: if no default timeout is set and the listening\u001b[0m\u001b[0;34m\u001b[0m\u001b[0;34m\u001b[0m\u001b[0;34m\u001b[0m\u001b[0m\n",
            "\u001b[0;31mKeyboardInterrupt\u001b[0m: "
          ]
        }
      ]
    },
    {
      "cell_type": "code",
      "metadata": {
        "id": "koM2AqxY9ntP"
      },
      "source": [
        "from pyspark import SparkConf,SparkContext\n",
        "from pyspark.streaming import StreamingContext\n",
        "from pyspark.sql import Row,SQLContext\n",
        "import sys\n",
        "import requests\n",
        "import re\n",
        "\n",
        "# create spark configuration\n",
        "conf = SparkConf()\n",
        "conf.setAppName(\"TwitterStreamApp\")\n",
        "# create spark instance with the above configuration\n",
        "sc = SparkContext(conf=conf)\n",
        "sc.setLogLevel(\"ERROR\")\n",
        "# creat the Streaming Context from the above spark context with window size 2 seconds\n",
        "ssc = StreamingContext(sc, 2)\n",
        "# setting a checkpoint to allow RDD recovery\n",
        "ssc.checkpoint(\"checkpoint_TwitterApp\")\n",
        "# read data from port 9009\n",
        "dataStream = ssc.socketTextStream(\"localhost\",9009)"
      ],
      "execution_count": null,
      "outputs": []
    },
    {
      "cell_type": "code",
      "metadata": {
        "id": "allnSVbFB44r"
      },
      "source": [
        ""
      ],
      "execution_count": null,
      "outputs": []
    }
  ]
}